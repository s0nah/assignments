{
 "cells": [
  {
   "cell_type": "markdown",
   "id": "69afe7bb",
   "metadata": {},
   "source": [
    "# SET 2"
   ]
  },
  {
   "cell_type": "code",
   "execution_count": 1,
   "id": "51e32c1f",
   "metadata": {},
   "outputs": [],
   "source": [
    "import pandas as pd\n",
    "import numpy as np\n",
    "import matplotlib.pyplot as plt\n",
    "import scipy.stats as stats\n",
    "import seaborn as sns\n",
    "import statsmodels.api as smf\n",
    "import warnings\n",
    "warnings.filterwarnings('ignore')"
   ]
  },
  {
   "cell_type": "markdown",
   "id": "42f80390",
   "metadata": {},
   "source": [
    "# q1"
   ]
  },
  {
   "cell_type": "code",
   "execution_count": 2,
   "id": "a46903d9",
   "metadata": {},
   "outputs": [
    {
     "name": "stdout",
     "output_type": "stream",
     "text": [
      "The probability that the service manager cannot meet his \n",
      "      commitment is 0.26599\n"
     ]
    }
   ],
   "source": [
    "\"\"\"the serving work will began after 10 min of drop off so 45+10 \n",
    "which will now take more than the usual time so new mew is 55 minutes \n",
    "and the porbbaility that it will take more than 1 hour to complete\"\"\"\n",
    "mew = 55\n",
    "std = 8\n",
    "q1 = stats.norm.sf(60, loc = mew, scale = std)\n",
    "print(\"\"\"The probability that the service manager cannot meet his \n",
    "      commitment is\"\"\",np.round(q1,5))"
   ]
  },
  {
   "cell_type": "markdown",
   "id": "5065fcdf",
   "metadata": {},
   "source": [
    "# q2"
   ]
  },
  {
   "cell_type": "code",
   "execution_count": 3,
   "id": "5dff720a",
   "metadata": {},
   "outputs": [
    {
     "name": "stdout",
     "output_type": "stream",
     "text": [
      "The probability of employee age betweeen 38 and 44 is 34.13 %\n",
      "The probability of employee age more than 44 is 15.87 %\n",
      "Answer: False\n",
      "A training program for employees under the age of 30 at the center would be expected to attract about 36.0 employees\n"
     ]
    }
   ],
   "source": [
    "mean = 38\n",
    "std1 = 6\n",
    "q2_lessthan_38 = stats.norm.cdf(38, loc = mean, scale = std1)\n",
    "\n",
    "\n",
    "q2_less_than_44 = stats.norm.cdf(44, loc = mean,  scale = std1)\n",
    "\n",
    "\n",
    "q2_betweeen_38_and_44 = (q2_less_than_44 - q2_lessthan_38)\n",
    "print('The probability of employee age betweeen 38 and 44 is',np.round(q2_betweeen_38_and_44*100,2),'%') \n",
    "\n",
    "q2_morethan_44 = 1-stats.norm.cdf(44, loc = mean, scale = std1)\n",
    "print('The probability of employee age more than 44 is',np.round(q2_morethan_44*100,2),'%')\n",
    "\n",
    "true_or_false = (q2_morethan_44 > q2_betweeen_38_and_44)\n",
    "print('Answer:',true_or_false)\n",
    "\n",
    "q2b = stats.norm.cdf(30, loc = mean, scale = std1)\n",
    "print(\"\"\"A training program for employees under the age of 30 at the center would be expected to attract about\"\"\"\n",
    "      ,np.round((q2b*400),0),'employees')"
   ]
  },
  {
   "cell_type": "markdown",
   "id": "d777ccc0",
   "metadata": {},
   "source": [
    "# q4"
   ]
  },
  {
   "cell_type": "code",
   "execution_count": 5,
   "id": "11607b64",
   "metadata": {},
   "outputs": [
    {
     "data": {
      "text/plain": [
       "(48.48341392902199, 151.516586070978)"
      ]
     },
     "execution_count": 5,
     "metadata": {},
     "output_type": "execute_result"
    }
   ],
   "source": [
    "stats.norm.interval(0.99,100,20)"
   ]
  },
  {
   "cell_type": "markdown",
   "id": "74779f91",
   "metadata": {},
   "source": [
    "# q5"
   ]
  },
  {
   "cell_type": "code",
   "execution_count": 6,
   "id": "433e8d56",
   "metadata": {},
   "outputs": [
    {
     "name": "stdout",
     "output_type": "stream",
     "text": [
      "Mean Profit is Rs 540 Million\n"
     ]
    }
   ],
   "source": [
    "# Mean profits from two different divisions of a company = Mean1 + Mean2\n",
    "Mean = 5+7\n",
    "print('Mean Profit is Rs', Mean*45,'Million')"
   ]
  },
  {
   "cell_type": "code",
   "execution_count": 7,
   "id": "36584106",
   "metadata": {},
   "outputs": [
    {
     "name": "stdout",
     "output_type": "stream",
     "text": [
      "Standard Deviation is Rs 225.0 Million\n"
     ]
    }
   ],
   "source": [
    "# Variance of profits from two different divisions of a company = SD^2 = SD1^2 + SD2^2\n",
    "SD = np.sqrt((9)+(16))\n",
    "print('Standard Deviation is Rs', SD*45, 'Million')"
   ]
  },
  {
   "cell_type": "code",
   "execution_count": 8,
   "id": "cf0617da",
   "metadata": {},
   "outputs": [
    {
     "name": "stdout",
     "output_type": "stream",
     "text": [
      "Range is Rs (99.00810347848784, 980.9918965215122) in Millions\n"
     ]
    }
   ],
   "source": [
    "# A. Specify a Rupee range (centered on the mean) such that it contains 95% probability for the annual profit of the company.\n",
    "print('Range is Rs',(stats.norm.interval(0.95,540,225)),'in Millions')"
   ]
  },
  {
   "cell_type": "code",
   "execution_count": 9,
   "id": "fda07796",
   "metadata": {},
   "outputs": [
    {
     "name": "stdout",
     "output_type": "stream",
     "text": [
      "5th percentile of profit (in Million Rupees) is 170.0\n"
     ]
    }
   ],
   "source": [
    "# B. Specify the 5th percentile of profit (in Rupees) for the company\n",
    "# To compute 5th Percentile, we use the formula X=μ + Zσ; wherein from z table, 5 percentile = -1.645\n",
    "X= 540+(-1.645)*(225)\n",
    "print('5th percentile of profit (in Million Rupees) is',np.round(X,))"
   ]
  },
  {
   "cell_type": "code",
   "execution_count": 10,
   "id": "d194e1aa",
   "metadata": {},
   "outputs": [],
   "source": [
    "# C. Which of the two divisions has a larger probability of making a loss in a given year?"
   ]
  },
  {
   "cell_type": "code",
   "execution_count": 11,
   "id": "9ca5462d",
   "metadata": {},
   "outputs": [
    {
     "data": {
      "text/plain": [
       "0.040059156863817086"
      ]
     },
     "execution_count": 11,
     "metadata": {},
     "output_type": "execute_result"
    }
   ],
   "source": [
    "# Probability of Division 2 making a loss P(X<0)\n",
    "stats.norm.cdf(0,7,4)"
   ]
  },
  {
   "cell_type": "markdown",
   "id": "c72a075e",
   "metadata": {},
   "source": [
    "Probability of Division 1 making a loss in a given year is more than Division 2."
   ]
  },
  {
   "cell_type": "code",
   "execution_count": null,
   "id": "d437092d",
   "metadata": {},
   "outputs": [],
   "source": []
  }
 ],
 "metadata": {
  "kernelspec": {
   "display_name": "Python 3 (ipykernel)",
   "language": "python",
   "name": "python3"
  },
  "language_info": {
   "codemirror_mode": {
    "name": "ipython",
    "version": 3
   },
   "file_extension": ".py",
   "mimetype": "text/x-python",
   "name": "python",
   "nbconvert_exporter": "python",
   "pygments_lexer": "ipython3",
   "version": "3.9.17"
  }
 },
 "nbformat": 4,
 "nbformat_minor": 5
}
